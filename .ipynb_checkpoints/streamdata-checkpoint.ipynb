{
 "cells": [
  {
   "cell_type": "code",
   "execution_count": 1,
   "metadata": {
    "collapsed": true
   },
   "outputs": [],
   "source": [
    "import numpy as np\n",
    "import pandas as pd\n",
    "import csv"
   ]
  },
  {
   "cell_type": "code",
   "execution_count": 2,
   "metadata": {
    "collapsed": true
   },
   "outputs": [],
   "source": [
    "with open('ProcessedData/topic_question.json','r') as inf:\n",
    "    dict_from_file = eval(inf.read())"
   ]
  },
  {
   "cell_type": "code",
   "execution_count": 3,
   "metadata": {
    "collapsed": true
   },
   "outputs": [],
   "source": [
    "topic_count_csv = pd.read_csv(\"docs/Topic_count.csv\",header=None)\n",
    "df_questions = pd.read_csv('webmd_csv/webmd-question.csv')\n",
    "df_answer = pd.read_csv('webmd_csv/webmd-answer.csv')"
   ]
  },
  {
   "cell_type": "code",
   "execution_count": 30,
   "metadata": {},
   "outputs": [],
   "source": [
    "for i in range(100):\n",
    "    print(i)\n",
    "    name = topic_count_csv[0][i]\n",
    "    qlist = dict_from_file[name]\n",
    "    name = name.split(\"-\")\n",
    "    name = name[0]\n",
    "    file_name = \"docs/Stream/\" + name + \".csv\"\n",
    "    \n",
    "    val_q = {}\n",
    "    val_a = {}\n",
    "    \n",
    "    ques = pd.DataFrame(df_questions[df_questions['Question Id'].isin(qlist)])\n",
    "    ans = pd.DataFrame(df_answer[df_answer['Question Id'].isin(qlist)])\n",
    "    \n",
    "    for i in range(len(ans)):\n",
    "        if str(ans.iloc[i]['Answer Post Date']) != \" \":\n",
    "            month = int(str(ans.iloc[i]['Answer Post Date']).split('-')[1])\n",
    "            if month in val_a:\n",
    "                val_a[month] += 1\n",
    "            else:\n",
    "                val_a[month] = 1\n",
    "            \n",
    "    for i in range(len(ques)):\n",
    "        if str(ques.iloc[i]['Question Post Date']) != \"nan\":\n",
    "            month = int(str(ques.iloc[i]['Question Post Date']).split('-')[1])\n",
    "            if month in val_q:\n",
    "                val_q[month] += 1\n",
    "            else:\n",
    "                val_q[month] = 1 \n",
    "    \n",
    "    with open(file_name, mode='w', newline='') as this_file:\n",
    "        file_writer = csv.writer(this_file, delimiter=',', quotechar='\"', quoting=csv.QUOTE_MINIMAL)\n",
    "        file_writer.writerow(['key', 'value', 'date'])\n",
    "        for i in range(1, len(val_q)+1):\n",
    "            file_writer.writerow(['questions', val_q[i], i])\n",
    "        for i in range(1, len(val_a)+1):\n",
    "            file_writer.writerow(['answer', val_a[i], i])\n",
    "    print(\"Done with \" + str(i))"
   ]
  }
 ],
 "metadata": {
  "kernelspec": {
   "display_name": "Python 3",
   "language": "python",
   "name": "python3"
  },
  "language_info": {
   "codemirror_mode": {
    "name": "ipython",
    "version": 3
   },
   "file_extension": ".py",
   "mimetype": "text/x-python",
   "name": "python",
   "nbconvert_exporter": "python",
   "pygments_lexer": "ipython3",
   "version": "3.6.2"
  }
 },
 "nbformat": 4,
 "nbformat_minor": 2
}
